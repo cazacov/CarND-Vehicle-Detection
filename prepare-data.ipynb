{
 "cells": [
  {
   "cell_type": "markdown",
   "metadata": {},
   "source": [
    "## Prepare training data\n",
    "\n",
    "The program search recursively in folders \"./data/vehicles\" and \"./data/non-vehicles\" and places images in flat folders \"./data/cars\" and \"./data/non-cars\". From every image I make a flipped copy and store it as well."
   ]
  },
  {
   "cell_type": "code",
   "execution_count": 13,
   "metadata": {},
   "outputs": [],
   "source": [
    "import numpy as np\n",
    "import cv2\n",
    "import os\n",
    "\n",
    "def traverse_folder(start_folder, target_folder):\n",
    "    count = 0\n",
    "    for dirpath, dirs, files in os.walk(start_folder):\n",
    "        for filename in files:\n",
    "            if not filename.endswith(\"png\"):\n",
    "                continue;\n",
    "            source = os.path.join(dirpath,filename)\n",
    "            target = os.path.join(target_folder, filename)\n",
    "            \n",
    "            while os.path.isfile(target):\n",
    "                target = target.replace(\".png\", \"A.png\")\n",
    "                \n",
    "            target2  = target.replace(\".png\", \"_.png\")\n",
    "            \n",
    "            image = cv2.imread(source)\n",
    "            cv2.imwrite(target, image)\n",
    "            cv2.imwrite(target2, cv2.flip(image,1))\n",
    "            count += 2\n",
    "    print(\"Files: \", count)\n",
    "            \n",
    "       "
   ]
  },
  {
   "cell_type": "code",
   "execution_count": 14,
   "metadata": {},
   "outputs": [
    {
     "name": "stdout",
     "output_type": "stream",
     "text": [
      "Files:  17584\n"
     ]
    }
   ],
   "source": [
    "traverse_folder(\"./data/vehicles\", \"./data/cars\")"
   ]
  },
  {
   "cell_type": "code",
   "execution_count": 15,
   "metadata": {},
   "outputs": [
    {
     "name": "stdout",
     "output_type": "stream",
     "text": [
      "Files:  17936\n"
     ]
    }
   ],
   "source": [
    "traverse_folder(\"./data/non-vehicles\", \"./data/non-cars\")"
   ]
  },
  {
   "cell_type": "code",
   "execution_count": null,
   "metadata": {},
   "outputs": [],
   "source": []
  }
 ],
 "metadata": {
  "kernelspec": {
   "display_name": "Python 3",
   "language": "python",
   "name": "python3"
  },
  "language_info": {
   "codemirror_mode": {
    "name": "ipython",
    "version": 3
   },
   "file_extension": ".py",
   "mimetype": "text/x-python",
   "name": "python",
   "nbconvert_exporter": "python",
   "pygments_lexer": "ipython3",
   "version": "3.5.2"
  },
  "widgets": {
   "state": {},
   "version": "1.1.2"
  }
 },
 "nbformat": 4,
 "nbformat_minor": 2
}
